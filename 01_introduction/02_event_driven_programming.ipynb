{
 "cells": [
  {
   "cell_type": "code",
   "execution_count": 8,
   "metadata": {},
   "outputs": [
    {
     "name": "stdout",
     "output_type": "stream",
     "text": [
      "Hello!\n",
      "I am 2 seconds old.\n",
      "Technically, I'm 2 seconds and 205196 microseconds old\n",
      "Nice chatting with you!\n"
     ]
    }
   ],
   "source": [
    "from datetime import datetime\n",
    "import time\n",
    "\n",
    "class EventDrivenChatBot:\n",
    "    \n",
    "    def __init__(self):\n",
    "        # accepted_messages maps incoming messages to \n",
    "        # list of callback functions\n",
    "        self.accepted_messages = {}\n",
    "        \n",
    "        # time of instantiation\n",
    "        self.birth_time = datetime.now()\n",
    "        \n",
    "        # \"registering\" all callbacks\n",
    "        self.register_callback(\"hi\", \n",
    "                               self.respond_to_greeting)\n",
    "        self.register_callback(\"bye\", \n",
    "                               self.respond_to_departure)\n",
    "        self.register_callback(\"age?\",\n",
    "                               self.handle_age_request)\n",
    "        self.has_been_asked_age = False\n",
    "    \n",
    "    def register_callback(self, message, callback):\n",
    "        \"\"\"\n",
    "        Registers a callback to a message.\n",
    "        \"\"\"\n",
    "        if message not in self.accepted_messages:\n",
    "            self.accepted_messages[message] = []\n",
    "        \n",
    "        self.accepted_messages[message].append(callback)\n",
    "        \n",
    "    def handle_age_request(self):\n",
    "        if not self.has_been_asked_age:\n",
    "            self.has_been_asked_age = True\n",
    "            self.respond_to_age_request()\n",
    "        else:\n",
    "            self.respond_to_age_request_detailed()\n",
    "\n",
    "    def respond_to_greeting(self):\n",
    "        print(\"Hello!\")\n",
    "        \n",
    "    def respond_to_departure(self):\n",
    "        print(\"Nice chatting with you!\")\n",
    "            \n",
    "    def respond_to_age_request(self):\n",
    "        age = datetime.now() - self.birth_time\n",
    "        print(\"I am\", age.seconds, \"seconds old.\")\n",
    "        \n",
    "    def respond_to_age_request_detailed(self):\n",
    "        age = datetime.now() - self.birth_time\n",
    "        micros = age.microseconds\n",
    "        print(\"Technically, I'm\", age.seconds, \"seconds and\", \n",
    "              micros, \"microseconds old\")\n",
    "        \n",
    "    def handle_message(self, message):\n",
    "        if message not in self.accepted_messages:\n",
    "            print(\"sorry, I don't understand\", message)\n",
    "        else:\n",
    "            callbacks = self.accepted_messages[message]\n",
    "            for callback in callbacks:\n",
    "                callback() \n",
    "                \n",
    "bot = EventDrivenChatBot()\n",
    "bot.handle_message(\"hi\")\n",
    "time.sleep(2.2)\n",
    "bot.handle_message(\"age?\")\n",
    "bot.handle_message(\"age?\")\n",
    "bot.handle_message(\"bye\")"
   ]
  }
 ],
 "metadata": {
  "interpreter": {
   "hash": "e7d06c5dced7768b934db1f37e5f9287bd8e319e7f510bd8207093aa216a5700"
  },
  "kernelspec": {
   "display_name": "Python 3.6.3 64-bit ('fcnd': conda)",
   "name": "python3"
  },
  "language_info": {
   "codemirror_mode": {
    "name": "ipython",
    "version": 3
   },
   "file_extension": ".py",
   "mimetype": "text/x-python",
   "name": "python",
   "nbconvert_exporter": "python",
   "pygments_lexer": "ipython3",
   "version": "3.6.3"
  },
  "orig_nbformat": 4
 },
 "nbformat": 4,
 "nbformat_minor": 2
}
